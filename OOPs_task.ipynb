{
 "cells": [
  {
   "cell_type": "markdown",
   "id": "78f93f0d",
   "metadata": {},
   "source": [
    "# question 1"
   ]
  },
  {
   "cell_type": "code",
   "execution_count": 1,
   "id": "d64e86bf",
   "metadata": {},
   "outputs": [],
   "source": [
    "class vehicle :\n",
    "    def __init__(self ,name , speed , avg):\n",
    "        self . name = name\n",
    "        self . speed = speed\n",
    "        self. avg = avg\n",
    "    def get_v(self):\n",
    "        return self.name , self.speed,self.avg\n",
    "        "
   ]
  },
  {
   "cell_type": "code",
   "execution_count": 4,
   "id": "6e5b3763",
   "metadata": {},
   "outputs": [],
   "source": [
    "obj_vehicle = vehicle(\"Braza\" , 40 ,20)"
   ]
  },
  {
   "cell_type": "code",
   "execution_count": 5,
   "id": "68ca314f",
   "metadata": {},
   "outputs": [
    {
     "data": {
      "text/plain": [
       "('Braza', 40, 20)"
      ]
     },
     "execution_count": 5,
     "metadata": {},
     "output_type": "execute_result"
    }
   ],
   "source": [
    "obj_vehicle.get_v()"
   ]
  },
  {
   "cell_type": "markdown",
   "id": "120e70c8",
   "metadata": {},
   "source": [
    "# question 2"
   ]
  },
  {
   "cell_type": "code",
   "execution_count": 47,
   "id": "f9c8e815",
   "metadata": {},
   "outputs": [],
   "source": [
    "class Vehicle:\n",
    "    def __init__(self, name, mileage, capacity):\n",
    "        self.name = name\n",
    "        self.mileage = mileage\n",
    "        self.capacity = capacity\n",
    "\n",
    "    def fare(self):\n",
    "        return self.capacity * 100\n",
    "\n",
    "class Bus(Vehicle):\n",
    "    pass\n",
    "\n",
    "\n",
    "        \n",
    "      "
   ]
  },
  {
   "cell_type": "code",
   "execution_count": 48,
   "id": "f473f455",
   "metadata": {},
   "outputs": [
    {
     "name": "stdout",
     "output_type": "stream",
     "text": [
      "Total Bus fare is: 5000\n"
     ]
    }
   ],
   "source": [
    "School_bus = Bus(\"School Volvo\", 12, 50)\n",
    "print(\"Total Bus fare is:\", School_bus.fare())"
   ]
  },
  {
   "cell_type": "markdown",
   "id": "c7dfa9d5",
   "metadata": {},
   "source": [
    "# question 3"
   ]
  },
  {
   "cell_type": "code",
   "execution_count": null,
   "id": "769f4323",
   "metadata": {},
   "outputs": [],
   "source": [
    "# multiple inheritance = multiple inheritance are used one base class and two derived class are known as multiple inheritance"
   ]
  },
  {
   "cell_type": "code",
   "execution_count": 10,
   "id": "8fa5ee9d",
   "metadata": {},
   "outputs": [],
   "source": [
    "class papa:  \n",
    "    \n",
    "    def f_c1(self):\n",
    "        return \"papa is my family member\""
   ]
  },
  {
   "cell_type": "code",
   "execution_count": 11,
   "id": "0db90b92",
   "metadata": {},
   "outputs": [],
   "source": [
    "class mummy:  \n",
    "    \n",
    "    def f_c2(self):\n",
    "        return \"mummy is my family member\""
   ]
  },
  {
   "cell_type": "code",
   "execution_count": 12,
   "id": "b0e13e47",
   "metadata": {},
   "outputs": [],
   "source": [
    "class bai(papa,mummy):\n",
    "    \n",
    "    pass"
   ]
  },
  {
   "cell_type": "code",
   "execution_count": 13,
   "id": "37742ca9",
   "metadata": {},
   "outputs": [],
   "source": [
    "obj_bai = bai()"
   ]
  },
  {
   "cell_type": "code",
   "execution_count": 14,
   "id": "49e1711a",
   "metadata": {},
   "outputs": [
    {
     "data": {
      "text/plain": [
       "'papa is my family member'"
      ]
     },
     "execution_count": 14,
     "metadata": {},
     "output_type": "execute_result"
    }
   ],
   "source": [
    "obj_bai.f_c1()"
   ]
  },
  {
   "cell_type": "code",
   "execution_count": 15,
   "id": "eaa4f6d6",
   "metadata": {},
   "outputs": [
    {
     "data": {
      "text/plain": [
       "'mummy is my family member'"
      ]
     },
     "execution_count": 15,
     "metadata": {},
     "output_type": "execute_result"
    }
   ],
   "source": [
    "obj_bai.f_c2()"
   ]
  },
  {
   "cell_type": "markdown",
   "id": "161b2327",
   "metadata": {},
   "source": [
    "# question 4"
   ]
  },
  {
   "cell_type": "code",
   "execution_count": 20,
   "id": "4a784264",
   "metadata": {},
   "outputs": [],
   "source": [
    "#Getter: A method that allows you to access an attribute in a given class.\n",
    "#Setter: A method that allows you to set or mutate the value of an attribute in a class."
   ]
  },
  {
   "cell_type": "code",
   "execution_count": 27,
   "id": "0d172562",
   "metadata": {},
   "outputs": [],
   "source": [
    "class car:\n",
    "    def __init__(self , year, make , model,speed):\n",
    "        \n",
    "        self.__year = year# hide for user(private variable) \n",
    "        self.__make =  make\n",
    "        self.__model = model\n",
    "        self.__speed = 0\n",
    "    \n",
    "    \n",
    "    def set_speed(self,speed):\n",
    "        self.__speed = 0 if speed <0 else speed\n",
    "    \n",
    "    def get_speed(self):\n",
    "        return self.__speed"
   ]
  },
  {
   "cell_type": "code",
   "execution_count": 28,
   "id": "706e75e7",
   "metadata": {},
   "outputs": [],
   "source": [
    "c = car(2021 ,\"toyata\",\"innova\", 12)"
   ]
  },
  {
   "cell_type": "code",
   "execution_count": 29,
   "id": "47fd885c",
   "metadata": {},
   "outputs": [],
   "source": [
    "c.set_speed(-234)\n"
   ]
  },
  {
   "cell_type": "code",
   "execution_count": 31,
   "id": "ad6e3fee",
   "metadata": {},
   "outputs": [
    {
     "data": {
      "text/plain": [
       "0"
      ]
     },
     "execution_count": 31,
     "metadata": {},
     "output_type": "execute_result"
    }
   ],
   "source": [
    "c.get_speed()"
   ]
  },
  {
   "cell_type": "markdown",
   "id": "2a98e660",
   "metadata": {},
   "source": [
    "# question 5"
   ]
  },
  {
   "cell_type": "code",
   "execution_count": 32,
   "id": "3711d503",
   "metadata": {},
   "outputs": [],
   "source": [
    "#Method overriding is an ability of any object-oriented programming language that allows a subclass or child class to provide a specific implementation of a method that is already provided by one of its super-classes or parent classes. When a method in a subclass has the same name, same parameters or signature and same return type(or sub-type) as a method in its super-class, then the method in the subclass is said to override the method in the super-class."
   ]
  },
  {
   "cell_type": "code",
   "execution_count": 34,
   "id": "3f6c70c3",
   "metadata": {},
   "outputs": [],
   "source": [
    "class animal:\n",
    "    def sound(self):\n",
    "        return \"animal makes sound\"\n",
    "    \n",
    "class dog:\n",
    "    def sound(self):\n",
    "        return \"dog barks\"\n",
    "    \n",
    "\n",
    "\n"
   ]
  },
  {
   "cell_type": "code",
   "execution_count": 35,
   "id": "0e7c215a",
   "metadata": {},
   "outputs": [
    {
     "name": "stdout",
     "output_type": "stream",
     "text": [
      "Dog barks.\n"
     ]
    }
   ],
   "source": [
    "d = Dog()\n",
    "d.sound()"
   ]
  },
  {
   "cell_type": "code",
   "execution_count": null,
   "id": "ec553d98",
   "metadata": {},
   "outputs": [],
   "source": []
  }
 ],
 "metadata": {
  "kernelspec": {
   "display_name": "Python 3 (ipykernel)",
   "language": "python",
   "name": "python3"
  },
  "language_info": {
   "codemirror_mode": {
    "name": "ipython",
    "version": 3
   },
   "file_extension": ".py",
   "mimetype": "text/x-python",
   "name": "python",
   "nbconvert_exporter": "python",
   "pygments_lexer": "ipython3",
   "version": "3.11.3"
  }
 },
 "nbformat": 4,
 "nbformat_minor": 5
}
